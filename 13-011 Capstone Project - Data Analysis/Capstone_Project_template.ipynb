{
 "cells": [
  {
   "attachments": {},
   "cell_type": "markdown",
   "metadata": {
    "id": "7EpdDShRzOkL"
   },
   "source": [
    "Exploratory data analysis (EDA) is a crucial component of data science which allows you to understand the basics of what your data looks like and what kinds of questions might be answered. For this task, we are going to clean, sanitise and explore our data. Using the movies dataset, complete the steps outlined in this notebook by writing code in the cells."
   ]
  },
  {
   "cell_type": "code",
   "execution_count": null,
   "metadata": {
    "id": "ARURmm3ezOkQ"
   },
   "outputs": [],
   "source": [
    "# Import libraries\n",
    "\n",
    "import numpy as np\n",
    "import pandas as pd\n",
    "import seaborn as sns\n",
    "import ast, json\n",
    "\n",
    "from datetime import datetime\n",
    "import matplotlib.pyplot as plt\n",
    "%matplotlib inline"
   ]
  },
  {
   "cell_type": "code",
   "execution_count": null,
   "metadata": {
    "id": "h2rUQqYrzOkT"
   },
   "outputs": [],
   "source": [
    "#### Load the movies dataset \n",
    "movies_df = pd.read_csv('movies.csv')"
   ]
  },
  {
   "attachments": {},
   "cell_type": "markdown",
   "metadata": {
    "id": "01Qo282bzOkU"
   },
   "source": [
    "### Data Cleansing\n",
    "#### Clean the data\n",
    "\n",
    "Identify columns that are redundant or unnecessary. It is always easier to make your decisions based on data which is relevant and concise. Remove the following columns `['homepage', 'keywords', 'original_language', 'original_title', 'overview', 'production_companies', 'status', 'tagline']` from the data set as they will not be used in the analysis."
   ]
  },
  {
   "cell_type": "code",
   "execution_count": null,
   "metadata": {
    "id": "OteozQdbzOkV"
   },
   "outputs": [],
   "source": [
    "# Code here"
   ]
  },
  {
   "attachments": {},
   "cell_type": "markdown",
   "metadata": {
    "id": "aLURlpwJzOkW"
   },
   "source": [
    "#### Remove any duplicate rows"
   ]
  },
  {
   "cell_type": "code",
   "execution_count": null,
   "metadata": {
    "id": "TZGtp5YhzOkX"
   },
   "outputs": [],
   "source": [
    "# Code here"
   ]
  },
  {
   "attachments": {},
   "cell_type": "markdown",
   "metadata": {
    "id": "-FZGXFbezOkY"
   },
   "source": [
    "#### Remove rows with missing data \n",
    "\n",
    "Some movies in the database have zero budget or zero revenue which implies that their values have not been recorded or some information is missing. Discard such entries from the dataframe."
   ]
  },
  {
   "cell_type": "code",
   "execution_count": null,
   "metadata": {
    "id": "gYkKl6FTzOkZ"
   },
   "outputs": [],
   "source": [
    "# Code here"
   ]
  },
  {
   "attachments": {},
   "cell_type": "markdown",
   "metadata": {
    "id": "42IlCC8dzOka"
   },
   "source": [
    "#### Change data types\n",
    "To manipulate the columns easily, it is important that we make use of the python objects. Change the release date column into `DateTime` format and extract the year from the date. This will help us in analysing yearly data."
   ]
  },
  {
   "cell_type": "code",
   "execution_count": null,
   "metadata": {
    "id": "8e9j1-oqzOka"
   },
   "outputs": [],
   "source": [
    "# Change the release_date column to DateTime\n",
    "\n",
    "\n",
    "# Extract the release year from every release date\n"
   ]
  },
  {
   "attachments": {},
   "cell_type": "markdown",
   "metadata": {
    "id": "qDjwMOU9zOkb"
   },
   "source": [
    "Change budget and revenue columns to a integer data type using numpy’s `int64` method."
   ]
  },
  {
   "cell_type": "code",
   "execution_count": null,
   "metadata": {
    "id": "p3y-4LIszOkb"
   },
   "outputs": [],
   "source": [
    "# Code here"
   ]
  },
  {
   "attachments": {},
   "cell_type": "markdown",
   "metadata": {
    "id": "qV8nwsWHzOkb"
   },
   "source": [
    "On checking the dataset, we see that `genres`, `production_countries`, `spoken_languages` are in the JSON format which will make it difficult to manipulate the dataframe. The `parse_col_json function` flattens these columns into a format that can be easily interpreted."
   ]
  },
  {
   "cell_type": "code",
   "execution_count": null,
   "metadata": {},
   "outputs": [],
   "source": [
    "# Convert from JSON format to a list of strings\n",
    "def parse_col_json(column, key):\n",
    "    \"\"\"\n",
    "    Args:\n",
    "        column: string\n",
    "            name of the column to be processed.\n",
    "        key: string\n",
    "            name of the dictionary key which needs to be extracted\n",
    "    \"\"\"\n",
    "    for index,i in zip(movies_df.index, movies_df[column].apply(json.loads)):\n",
    "        list1=[]\n",
    "        for j in range(len(i)):\n",
    "            list1.append((i[j][key]))# the key 'name' contains the name of the genre\n",
    "        movies_df.loc[index, column] = str(list1)\n",
    "    \n",
    "# Flatten data in columns\n",
    "parse_col_json('genres', 'name')\n",
    "parse_col_json('production_countries', 'name')\n",
    "parse_col_json('spoken_languages', 'name')\n"
   ]
  },
  {
   "cell_type": "code",
   "execution_count": null,
   "metadata": {},
   "outputs": [],
   "source": [
    "# Inspect flattened data\n",
    "movies_df.sample(1)"
   ]
  },
  {
   "attachments": {},
   "cell_type": "markdown",
   "metadata": {
    "id": "RXqfAA-FtCuG"
   },
   "source": [
    "### Finding Certain Genres\n",
    "Locate all movies in the \"Action\" genre. "
   ]
  },
  {
   "cell_type": "code",
   "execution_count": null,
   "metadata": {},
   "outputs": [],
   "source": [
    "# Create a dataframe with all the movies in the \"Action\" genre\n",
    "action_movies = "
   ]
  },
  {
   "attachments": {},
   "cell_type": "markdown",
   "metadata": {
    "id": "IdqN08kXzOkd"
   },
   "source": [
    "### Now onto the exploration\n",
    "\n",
    "#### Identify relationships between variables (features)\n",
    "\n",
    "The main goal here is to identify and create relationships that can help you formulate ideas. We have defined questions to help you identify some relationships to explore."
   ]
  },
  {
   "attachments": {},
   "cell_type": "markdown",
   "metadata": {
    "id": "9Doy1MMezOkd"
   },
   "source": [
    "#### Which are the 5 most expensive movies? \n",
    "\n",
    "How do the most expensive and cheapest movies compare? Exploring the most expensive movies highlights if some movies are worth the money spent on them based on their performance and revenue generated."
   ]
  },
  {
   "cell_type": "code",
   "execution_count": null,
   "metadata": {
    "id": "iKQswodgzOkd"
   },
   "outputs": [],
   "source": [
    "# Code here\n",
    "\n"
   ]
  },
  {
   "attachments": {},
   "cell_type": "markdown",
   "metadata": {
    "id": "_jqV6iG7zOke"
   },
   "source": [
    "#### What are the top 5 most profitable movies? \n",
    "\n",
    "Compare the min and max profits. The comparison helps us identify the different approaches which failed and succeeded. Subtracting the budget from the revenue generated, will return the profit earned."
   ]
  },
  {
   "cell_type": "code",
   "execution_count": null,
   "metadata": {
    "id": "IkGr3Va4zOke"
   },
   "outputs": [],
   "source": [
    "# Code here\n",
    "\n",
    "\n"
   ]
  },
  {
   "attachments": {},
   "cell_type": "markdown",
   "metadata": {
    "id": "gqs-eBKizOke"
   },
   "source": [
    "#### Find the most popular movies. \n",
    "Sort the dataframe based on the popularity column."
   ]
  },
  {
   "cell_type": "code",
   "execution_count": null,
   "metadata": {},
   "outputs": [],
   "source": [
    "# Code here\n",
    "\n"
   ]
  },
  {
   "attachments": {},
   "cell_type": "markdown",
   "metadata": {
    "id": "t8GJwQQGzOkf"
   },
   "source": [
    "#### Find Movies which are rated above 7"
   ]
  },
  {
   "cell_type": "code",
   "execution_count": null,
   "metadata": {
    "id": "fgZvo-auzOkf"
   },
   "outputs": [],
   "source": [
    "# Code here\n",
    "\n",
    "\n"
   ]
  },
  {
   "attachments": {},
   "cell_type": "markdown",
   "metadata": {
    "id": "JEb7f2_AzOkg"
   },
   "source": [
    "#### Most successful genres \n",
    "Create a bar plot explaining the frequency of movies in each genre."
   ]
  },
  {
   "cell_type": "code",
   "execution_count": null,
   "metadata": {
    "id": "Z18gfLx2zOkg"
   },
   "outputs": [],
   "source": [
    " # Code here"
   ]
  },
  {
   "cell_type": "code",
   "execution_count": null,
   "metadata": {
    "id": "IuHFwUx3zOkg"
   },
   "outputs": [],
   "source": [
    "# Generate three different interesting visualisations with a data story.\n",
    "\n",
    "\n",
    "\n",
    "\n",
    "\n",
    "\n",
    "\n"
   ]
  }
 ],
 "metadata": {
  "colab": {
   "provenance": []
  },
  "kernelspec": {
   "display_name": "Python 3 (ipykernel)",
   "language": "python",
   "name": "python3"
  },
  "language_info": {
   "codemirror_mode": {
    "name": "ipython",
    "version": 3
   },
   "file_extension": ".py",
   "mimetype": "text/x-python",
   "name": "python",
   "nbconvert_exporter": "python",
   "pygments_lexer": "ipython3",
   "version": "3.11.3"
  },
  "vscode": {
   "interpreter": {
    "hash": "1904059d3876957b542b45423f2a26c6c4608f5e11cc75420e543fa77f94b066"
   }
  }
 },
 "nbformat": 4,
 "nbformat_minor": 1
}
